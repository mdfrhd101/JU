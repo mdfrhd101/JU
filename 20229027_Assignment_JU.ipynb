{
  "nbformat": 4,
  "nbformat_minor": 0,
  "metadata": {
    "colab": {
      "provenance": [],
      "authorship_tag": "ABX9TyM+thOIQtUvdS3nGWv9tt5E",
      "include_colab_link": true
    },
    "kernelspec": {
      "name": "python3",
      "display_name": "Python 3"
    },
    "language_info": {
      "name": "python"
    }
  },
  "cells": [
    {
      "cell_type": "markdown",
      "metadata": {
        "id": "view-in-github",
        "colab_type": "text"
      },
      "source": [
        "<a href=\"https://colab.research.google.com/github/mdfrhd101/JU/blob/main/20229027_Assignment_JU.ipynb\" target=\"_parent\"><img src=\"https://colab.research.google.com/assets/colab-badge.svg\" alt=\"Open In Colab\"/></a>"
      ]
    },
    {
      "cell_type": "markdown",
      "source": [
        "#No-1\n",
        "Write a Python program to count the number of characters (character frequency) in a string. <br>Sample String : google.com\n",
        "Expected Result : {'o': 3, 'g': 2, '.': 1, 'e': 1, 'l': 1, 'm': 1, 'c': 1}"
      ],
      "metadata": {
        "id": "4F1xG7SKjRq8"
      }
    },
    {
      "cell_type": "code",
      "execution_count": null,
      "metadata": {
        "colab": {
          "base_uri": "https://localhost:8080/"
        },
        "id": "h4857VYki-N7",
        "outputId": "da027b2e-10bf-422e-be45-23c51cadff2a"
      },
      "outputs": [
        {
          "output_type": "stream",
          "name": "stdout",
          "text": [
            "{'g': 2, 'o': 3, 'l': 1, 'e': 1, '.': 1, 'c': 1, 'm': 1}\n"
          ]
        }
      ],
      "source": [
        "sample_string=\"google.com\"\n",
        "expected_dict = {}\n",
        "for n in sample_string:\n",
        "    keys = expected_dict.keys()\n",
        "    if n in keys:\n",
        "        expected_dict[n] += 1\n",
        "    else:\n",
        "        expected_dict[n] = 1\n",
        "print(expected_dict)"
      ]
    },
    {
      "cell_type": "markdown",
      "source": [
        "#No-2\n",
        "Write a Python program to check if a given key already exists in a dictionary."
      ],
      "metadata": {
        "id": "j3_MEF40jVzT"
      }
    },
    {
      "cell_type": "code",
      "source": [
        "dict = {0:111, 1: 222, 2: 333, 3: 444, 4: 555, 5: 666, 6:777}\n",
        "given_key=1\n",
        "if given_key in dict:\n",
        "  print('Key is present.')\n",
        "else:\n",
        "  print('Sorry! Key is not present.')"
      ],
      "metadata": {
        "colab": {
          "base_uri": "https://localhost:8080/"
        },
        "id": "2HWg3ptPjVLQ",
        "outputId": "b847876b-6b26-4ef4-dc63-43e6ddf6755b"
      },
      "execution_count": null,
      "outputs": [
        {
          "output_type": "stream",
          "name": "stdout",
          "text": [
            "Key is present.\n"
          ]
        }
      ]
    },
    {
      "cell_type": "markdown",
      "source": [
        "#N0-3\n",
        "Write a Python program to check if a given key already exists in a dictionary. 3. Write a Python program that accepts a sequence of comma-separated numbers from the\n",
        "user and generates a list and a tuple of those numbers. <br>Sample data : 1, 5, 7, 23<br>\n",
        "Expected Output :<br>\n",
        "List : ['1', ' 5', ' 7', ' 23']<br>\n",
        "Tuple : ('1', ' 5', ' 7', ' 23')"
      ],
      "metadata": {
        "id": "XU8sJt8-jg_o"
      }
    },
    {
      "cell_type": "code",
      "source": [
        "values = input(\"Enter some numbers seprated by comma: \")\n",
        "lst = values.split(\",\")\n",
        "print(lst)\n",
        "tpl=tuple(lst)\n",
        "print(tpl)"
      ],
      "metadata": {
        "colab": {
          "base_uri": "https://localhost:8080/"
        },
        "id": "ON7Zc962jeg_",
        "outputId": "71d0052d-23e0-415f-8542-c60330f91124"
      },
      "execution_count": null,
      "outputs": [
        {
          "output_type": "stream",
          "name": "stdout",
          "text": [
            "Enter some numbers seprated by comma: 1,5,7,23\n",
            "['1', '5', '7', '23']\n",
            "('1', '5', '7', '23')\n"
          ]
        }
      ]
    },
    {
      "cell_type": "markdown",
      "source": [
        "#No-4\n",
        "Write a Python program to calculate the number of days between two dates. <br>\n",
        "Sample dates : (2014, 7, 2), (2014, 7, 11)<br>\n",
        "Expected output : 9 days"
      ],
      "metadata": {
        "id": "Jd3soplbjwux"
      }
    },
    {
      "cell_type": "code",
      "source": [
        "from datetime import date\n",
        "first_date = date(2014, 7, 2)\n",
        "last_date = date(2014, 7, 11)\n",
        "difference = last_date - first_date\n",
        "print(difference.days,\"days\")"
      ],
      "metadata": {
        "colab": {
          "base_uri": "https://localhost:8080/"
        },
        "id": "kBrwkzeojsZn",
        "outputId": "90c71885-99fa-4f3f-87ca-4fc75396cf61"
      },
      "execution_count": null,
      "outputs": [
        {
          "output_type": "stream",
          "name": "stdout",
          "text": [
            "9 days\n"
          ]
        }
      ]
    },
    {
      "cell_type": "markdown",
      "source": [
        "#No-5\n",
        "Write a Python program to solve (x + y) * (x + y). <br>Test Data : x = 4, y = 3<br>\n",
        "Expected Output : (4 + 3) ^ 2) = 49"
      ],
      "metadata": {
        "id": "hd4eJeaNkAkA"
      }
    },
    {
      "cell_type": "code",
      "source": [
        "x=4\n",
        "y=3\n",
        "cal=(x+y)**2\n",
        "print(\"(\",x,\"+\",y,\")^2 =\",cal)"
      ],
      "metadata": {
        "colab": {
          "base_uri": "https://localhost:8080/"
        },
        "id": "Wg7J7KZMj_E3",
        "outputId": "8ab50304-ced2-4ffe-ae70-beaaabf24d68"
      },
      "execution_count": null,
      "outputs": [
        {
          "output_type": "stream",
          "name": "stdout",
          "text": [
            "( 4 + 3 )^2 = 49\n"
          ]
        }
      ]
    },
    {
      "cell_type": "markdown",
      "source": [
        "#No-6\n",
        "Write a Python program to compute the future value of a specified principal amount, rate of interest, and number of years. <br>Test Data : amt = 10000, int = 3.5, years = 7<br>\n",
        "Expected Output : 12722.79"
      ],
      "metadata": {
        "id": "98aJycY0kGvi"
      }
    },
    {
      "cell_type": "code",
      "source": [
        "amt = 10000\n",
        "int = 3.5\n",
        "years = 7\n",
        "future_value = amt*((1+(0.01*int)) ** years)\n",
        "print(round(future_value,2))"
      ],
      "metadata": {
        "colab": {
          "base_uri": "https://localhost:8080/"
        },
        "id": "Taxnt7THkEHn",
        "outputId": "a258229e-ba4e-4935-bda1-a88d7299dbb0"
      },
      "execution_count": null,
      "outputs": [
        {
          "output_type": "stream",
          "name": "stdout",
          "text": [
            "12722.79\n"
          ]
        }
      ]
    },
    {
      "cell_type": "markdown",
      "source": [
        "#No-7\n",
        "Write a Python program that removes duplicate elements from a given array of numbers so\n",
        "that each element appears only once and returns the new length of the array. <br>Sample Input: [0,0,1,1,2,2,3,3,4,4,4]<br>\n",
        "Sample Output:\n",
        "The list of unique numbers: [0,1,2,3,4]<br>\n",
        "length of the unique list : 5"
      ],
      "metadata": {
        "id": "jYxNWbKSkM4H"
      }
    },
    {
      "cell_type": "code",
      "source": [
        "sample=[0,0,1,1,2,2,3,3,4,4,4]\n",
        "st=set(sample)\n",
        "my_list=list(st)\n",
        "print(\"The list of unique numbers:\",my_list)\n",
        "print(\"length of the unique list :\",len(my_list))"
      ],
      "metadata": {
        "colab": {
          "base_uri": "https://localhost:8080/"
        },
        "id": "s6Q29VkdkKo3",
        "outputId": "39dcd4c3-10b3-4fd4-f4b2-bec8ae40a4e2"
      },
      "execution_count": null,
      "outputs": [
        {
          "output_type": "stream",
          "name": "stdout",
          "text": [
            "The list of unique numbers: [0, 1, 2, 3, 4]\n",
            "length of the unique list : 5\n"
          ]
        }
      ]
    },
    {
      "cell_type": "markdown",
      "source": [
        "#No-8\n",
        "Write a Python program to sort (ascending and descending) a dictionary by key value."
      ],
      "metadata": {
        "id": "gNSzIzV1kSvU"
      }
    },
    {
      "cell_type": "code",
      "source": [
        "my_dict = {1: 2, 3: 4, 4: 3, 2: 1, 0: 0}\n",
        "result = sorted(my_dict.items())\n",
        "new_dict = sorted(my_dict.items(),  reverse = True)\n",
        "print(\"Ascending:\",result)\n",
        "print(\"decending:\",new_dict)"
      ],
      "metadata": {
        "colab": {
          "base_uri": "https://localhost:8080/"
        },
        "id": "76iiPDEbkQVX",
        "outputId": "5c83dc05-a8b3-40cd-c19a-bb7a315ae2d2"
      },
      "execution_count": null,
      "outputs": [
        {
          "output_type": "stream",
          "name": "stdout",
          "text": [
            "Ascending: [(0, 0), (1, 2), (2, 1), (3, 4), (4, 3)]\n",
            "decending: [(4, 3), (3, 4), (2, 1), (1, 2), (0, 0)]\n"
          ]
        }
      ]
    },
    {
      "cell_type": "markdown",
      "source": [
        "#No-9\n",
        "Write a Python program to add a key to a dictionary.<br>\n",
        "Sample Dictionary : {0: 10, 1: 20}<br>\n",
        "Expected Result : {0: 10, 1: 20, 2: 30}"
      ],
      "metadata": {
        "id": "Ts0l2R5ZkYhD"
      }
    },
    {
      "cell_type": "code",
      "source": [
        "dict = {0:10, 1:20}\n",
        "print(dict)\n",
        "dict.update({2:30})\n",
        "print(dict)"
      ],
      "metadata": {
        "colab": {
          "base_uri": "https://localhost:8080/"
        },
        "id": "z6soIW2WkV7s",
        "outputId": "81631d4c-7229-4683-a196-c332e5311c0b"
      },
      "execution_count": null,
      "outputs": [
        {
          "output_type": "stream",
          "name": "stdout",
          "text": [
            "{0: 10, 1: 20}\n",
            "{0: 10, 1: 20, 2: 30}\n"
          ]
        }
      ]
    },
    {
      "cell_type": "markdown",
      "source": [
        "#No-10\n",
        "Write a Pandas program to create and display a DataFrame from a specified dictionary data\n",
        "which has the index labels. <br>Sample Python dictionary data and list labels:<br><br>\n",
        "exam_data = {'name': ['Arif', 'Asir', 'Arik', 'Anis', 'Anil', 'Ashish', 'Anahi', 'Alia', 'Alvin', 'Asim'],<br>\n",
        "'score': [12.5, 9, 16.5, np.nan, 9, 20, 14.5, np.nan, 8, 19],<br>\n",
        "'attempts': [1, 3, 2, 3, 2, 3, 1, 1, 2, 1],<br>\n",
        "'qualify': ['yes', 'no', 'yes', 'no', 'no', 'yes', 'yes', 'no', 'no', 'yes']}<br><br>\n",
        "labels = ['a', 'b', 'c', 'd', 'e', 'f', 'g', 'h', 'i', 'j']"
      ],
      "metadata": {
        "id": "xbtSLUwjkdiJ"
      }
    },
    {
      "cell_type": "code",
      "source": [
        "import numpy as np\n",
        "import pandas as pd\n",
        "\n",
        "exam_data = {'name': ['Arif', 'Asir', 'Arik', 'Anis', 'Anil', 'Ashish', 'Anahi', 'Alia', 'Alvin', 'Asim'],\n",
        "             'score': [12.5, 9, 16.5, np.nan, 9, 20, 14.5, np.nan, 8, 19],\n",
        "             'attempts': [1, 3, 2, 3, 2, 3, 1, 1, 2, 1],\n",
        "             'qualify': ['yes', 'no', 'yes', 'no', 'no', 'yes', 'yes', 'no', 'no', 'yes']}\n",
        "\n",
        "labels = ['a', 'b', 'c', 'd', 'e', 'f', 'g', 'h', 'i', 'j']\n",
        "\n",
        "df = pd.DataFrame(exam_data , index=labels)\n",
        "print(df)"
      ],
      "metadata": {
        "colab": {
          "base_uri": "https://localhost:8080/"
        },
        "id": "V8VOP2URkbMc",
        "outputId": "6a54e266-4f4a-428b-905f-f4fdc9c1ddb8"
      },
      "execution_count": null,
      "outputs": [
        {
          "output_type": "stream",
          "name": "stdout",
          "text": [
            "     name  score  attempts qualify\n",
            "a    Arif   12.5         1     yes\n",
            "b    Asir    9.0         3      no\n",
            "c    Arik   16.5         2     yes\n",
            "d    Anis    NaN         3      no\n",
            "e    Anil    9.0         2      no\n",
            "f  Ashish   20.0         3     yes\n",
            "g   Anahi   14.5         1     yes\n",
            "h    Alia    NaN         1      no\n",
            "i   Alvin    8.0         2      no\n",
            "j    Asim   19.0         1     yes\n"
          ]
        }
      ]
    },
    {
      "cell_type": "code",
      "source": [],
      "metadata": {
        "id": "7J-MbEy-kh17"
      },
      "execution_count": null,
      "outputs": []
    }
  ]
}